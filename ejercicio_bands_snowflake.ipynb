{
 "cells": [
  {
   "cell_type": "code",
   "execution_count": 1,
   "metadata": {},
   "outputs": [
    {
     "name": "stdout",
     "output_type": "stream",
     "text": [
      "Tabelas criadas com sucesso!\n"
     ]
    }
   ],
   "source": [
    "from sqlalchemy import create_engine, text\n",
    "\n",
    "USER = \"JFERRONATO\"\n",
    "PASSWORD = \"Chansnowflake3\"\n",
    "ACCOUNT = \"SVOHEKP-HL94300\"\n",
    "DATABASE = \"STOCKIFY\"\n",
    "SCHEMA = \"PUBLIC\"\n",
    "WAREHOUSE = \"COMPUTE_WH\"\n",
    "\n",
    "engine = create_engine(\n",
    "    f\"snowflake://{USER}:{PASSWORD}@{ACCOUNT}/{DATABASE}/{SCHEMA}?warehouse={WAREHOUSE}\"\n",
    ")\n",
    "\n",
    "create_tables_sql = \"\"\"\n",
    "CREATE OR REPLACE TABLE bands (\n",
    "    band_id INT AUTOINCREMENT PRIMARY KEY,\n",
    "    name STRING,\n",
    "    genre STRING,\n",
    "    foundation_year INT\n",
    ");\n",
    "\n",
    "CREATE OR REPLACE TABLE albums (\n",
    "    album_id INT AUTOINCREMENT PRIMARY KEY,\n",
    "    band_id INT,\n",
    "    title STRING,\n",
    "    release_year INT,\n",
    "    duration FLOAT,\n",
    "    FOREIGN KEY (band_id) REFERENCES bands(band_id)\n",
    ");\n",
    "\n",
    "CREATE OR REPLACE TABLE members (\n",
    "    member_id INT AUTOINCREMENT PRIMARY KEY,\n",
    "    band_id INT,\n",
    "    name STRING,\n",
    "    join_year INT,\n",
    "    leave_year INT,\n",
    "    FOREIGN KEY (band_id) REFERENCES bands(band_id)\n",
    ");\n",
    "\n",
    "CREATE OR REPLACE TABLE sales (\n",
    "    sale_id INT AUTOINCREMENT PRIMARY KEY,\n",
    "    album_id INT,\n",
    "    copies_sold INT,\n",
    "    FOREIGN KEY (album_id) REFERENCES albums(album_id)\n",
    ");\n",
    "\"\"\"\n",
    "\n",
    "with engine.connect() as conn:\n",
    "    for stmt in create_tables_sql.strip().split(\";\"):\n",
    "        if stmt.strip():\n",
    "            conn.execute(text(stmt))\n",
    "    print(\"Tabelas criadas com sucesso!\")\n"
   ]
  },
  {
   "cell_type": "code",
   "execution_count": 3,
   "metadata": {},
   "outputs": [
    {
     "name": "stdout",
     "output_type": "stream",
     "text": [
      "(datetime.datetime(2025, 4, 9, 10, 21, 25, 356000, tzinfo=<DstTzInfo 'America/Los_Angeles' PDT-1 day, 17:00:00 DST>), 'ALBUMS', 'STOCKIFY', 'PUBLIC', 'TABLE', '', '', 0, 0, 'ACCOUNTADMIN', '1', 'OFF', 'OFF', 'N', 'N', 'ROLE', 'N', None, 'N', 'N', 'N', 'N')\n",
      "(datetime.datetime(2025, 4, 8, 13, 25, 40, 478000, tzinfo=<DstTzInfo 'America/Los_Angeles' PDT-1 day, 17:00:00 DST>), 'APPUSER', 'STOCKIFY', 'PUBLIC', 'TABLE', '', '', 0, 0, 'ACCOUNTADMIN', '1', 'OFF', 'OFF', 'N', 'N', 'ROLE', 'N', None, 'N', 'N', 'N', 'N')\n",
      "(datetime.datetime(2025, 4, 9, 10, 21, 24, 890000, tzinfo=<DstTzInfo 'America/Los_Angeles' PDT-1 day, 17:00:00 DST>), 'BANDS', 'STOCKIFY', 'PUBLIC', 'TABLE', '', '', 0, 0, 'ACCOUNTADMIN', '1', 'OFF', 'OFF', 'N', 'N', 'ROLE', 'N', None, 'N', 'N', 'N', 'N')\n",
      "(datetime.datetime(2025, 4, 8, 13, 25, 39, 737000, tzinfo=<DstTzInfo 'America/Los_Angeles' PDT-1 day, 17:00:00 DST>), 'COMPANY', 'STOCKIFY', 'PUBLIC', 'TABLE', '', '', 0, 0, 'ACCOUNTADMIN', '1', 'OFF', 'OFF', 'N', 'N', 'ROLE', 'N', None, 'N', 'N', 'N', 'N')\n",
      "(datetime.datetime(2025, 4, 9, 10, 21, 25, 743000, tzinfo=<DstTzInfo 'America/Los_Angeles' PDT-1 day, 17:00:00 DST>), 'MEMBERS', 'STOCKIFY', 'PUBLIC', 'TABLE', '', '', 0, 0, 'ACCOUNTADMIN', '1', 'OFF', 'OFF', 'N', 'N', 'ROLE', 'N', None, 'N', 'N', 'N', 'N')\n",
      "(datetime.datetime(2025, 4, 9, 10, 21, 26, 195000, tzinfo=<DstTzInfo 'America/Los_Angeles' PDT-1 day, 17:00:00 DST>), 'SALES', 'STOCKIFY', 'PUBLIC', 'TABLE', '', '', 0, 0, 'ACCOUNTADMIN', '1', 'OFF', 'OFF', 'N', 'N', 'ROLE', 'N', None, 'N', 'N', 'N', 'N')\n",
      "(datetime.datetime(2025, 4, 8, 13, 25, 40, 56000, tzinfo=<DstTzInfo 'America/Los_Angeles' PDT-1 day, 17:00:00 DST>), 'STOCKS', 'STOCKIFY', 'PUBLIC', 'TABLE', '', '', 0, 0, 'ACCOUNTADMIN', '1', 'OFF', 'OFF', 'N', 'N', 'ROLE', 'N', None, 'N', 'N', 'N', 'N')\n",
      "(datetime.datetime(2025, 4, 8, 13, 25, 40, 682000, tzinfo=<DstTzInfo 'America/Los_Angeles' PDT-1 day, 17:00:00 DST>), 'TRANSACTIONS', 'STOCKIFY', 'PUBLIC', 'TABLE', '', '', 0, 0, 'ACCOUNTADMIN', '1', 'OFF', 'OFF', 'N', 'N', 'ROLE', 'N', None, 'N', 'N', 'N', 'N')\n"
     ]
    }
   ],
   "source": [
    "from sqlalchemy import create_engine, text\n",
    "\n",
    "USER = \"JFERRONATO\"\n",
    "PASSWORD = \"Chansnowflake3\"\n",
    "ACCOUNT = \"SVOHEKP-HL94300\"\n",
    "DATABASE = \"STOCKIFY\"\n",
    "SCHEMA = \"PUBLIC\"\n",
    "WAREHOUSE = \"COMPUTE_WH\"\n",
    "\n",
    "engine = create_engine(\n",
    "    f\"snowflake://{USER}:{PASSWORD}@{ACCOUNT}/{DATABASE}/{SCHEMA}?warehouse={WAREHOUSE}\"\n",
    ")\n",
    "\n",
    "with engine.connect() as conn:\n",
    "    result = conn.execute(text(\"SHOW TABLES\"))\n",
    "    for row in result:\n",
    "        print(row)"
   ]
  },
  {
   "cell_type": "code",
   "execution_count": null,
   "metadata": {},
   "outputs": [],
   "source": []
  },
  {
   "cell_type": "code",
   "execution_count": 5,
   "metadata": {},
   "outputs": [
    {
     "name": "stdout",
     "output_type": "stream",
     "text": [
      "Requirement already satisfied: snowflake-connector-python in c:\\users\\ferronat\\appdata\\local\\programs\\python\\python311\\lib\\site-packages (3.14.0)\n",
      "Requirement already satisfied: asn1crypto<2.0.0,>0.24.0 in c:\\users\\ferronat\\appdata\\local\\programs\\python\\python311\\lib\\site-packages (from snowflake-connector-python) (1.5.1)\n",
      "Requirement already satisfied: cffi<2.0.0,>=1.9 in c:\\users\\ferronat\\appdata\\local\\programs\\python\\python311\\lib\\site-packages (from snowflake-connector-python) (1.17.1)\n",
      "Requirement already satisfied: cryptography>=3.1.0 in c:\\users\\ferronat\\appdata\\local\\programs\\python\\python311\\lib\\site-packages (from snowflake-connector-python) (44.0.2)\n",
      "Requirement already satisfied: pyOpenSSL<26.0.0,>=22.0.0 in c:\\users\\ferronat\\appdata\\local\\programs\\python\\python311\\lib\\site-packages (from snowflake-connector-python) (25.0.0)\n",
      "Requirement already satisfied: pyjwt<3.0.0 in c:\\users\\ferronat\\appdata\\local\\programs\\python\\python311\\lib\\site-packages (from snowflake-connector-python) (2.10.1)\n",
      "Requirement already satisfied: pytz in c:\\users\\ferronat\\appdata\\local\\programs\\python\\python311\\lib\\site-packages (from snowflake-connector-python) (2025.2)\n",
      "Requirement already satisfied: requests<3.0.0 in c:\\users\\ferronat\\appdata\\local\\programs\\python\\python311\\lib\\site-packages (from snowflake-connector-python) (2.32.3)\n",
      "Requirement already satisfied: packaging in c:\\users\\ferronat\\appdata\\roaming\\python\\python311\\site-packages (from snowflake-connector-python) (24.2)\n",
      "Requirement already satisfied: charset_normalizer<4,>=2 in c:\\users\\ferronat\\appdata\\local\\programs\\python\\python311\\lib\\site-packages (from snowflake-connector-python) (3.4.1)\n",
      "Requirement already satisfied: idna<4,>=2.5 in c:\\users\\ferronat\\appdata\\local\\programs\\python\\python311\\lib\\site-packages (from snowflake-connector-python) (3.10)\n",
      "Requirement already satisfied: certifi>=2017.4.17 in c:\\users\\ferronat\\appdata\\local\\programs\\python\\python311\\lib\\site-packages (from snowflake-connector-python) (2025.1.31)\n",
      "Requirement already satisfied: typing_extensions<5,>=4.3 in c:\\users\\ferronat\\appdata\\roaming\\python\\python311\\site-packages (from snowflake-connector-python) (4.13.0)\n",
      "Requirement already satisfied: filelock<4,>=3.5 in c:\\users\\ferronat\\appdata\\local\\programs\\python\\python311\\lib\\site-packages (from snowflake-connector-python) (3.18.0)\n",
      "Requirement already satisfied: sortedcontainers>=2.4.0 in c:\\users\\ferronat\\appdata\\local\\programs\\python\\python311\\lib\\site-packages (from snowflake-connector-python) (2.4.0)\n",
      "Requirement already satisfied: platformdirs<5.0.0,>=2.6.0 in c:\\users\\ferronat\\appdata\\roaming\\python\\python311\\site-packages (from snowflake-connector-python) (4.3.7)\n",
      "Requirement already satisfied: tomlkit in c:\\users\\ferronat\\appdata\\local\\programs\\python\\python311\\lib\\site-packages (from snowflake-connector-python) (0.13.2)\n",
      "Requirement already satisfied: pycparser in c:\\users\\ferronat\\appdata\\local\\programs\\python\\python311\\lib\\site-packages (from cffi<2.0.0,>=1.9->snowflake-connector-python) (2.22)\n",
      "Requirement already satisfied: urllib3<3,>=1.21.1 in c:\\users\\ferronat\\appdata\\local\\programs\\python\\python311\\lib\\site-packages (from requests<3.0.0->snowflake-connector-python) (2.3.0)\n"
     ]
    },
    {
     "name": "stderr",
     "output_type": "stream",
     "text": [
      "\n",
      "[notice] A new release of pip available: 22.3 -> 25.0.1\n",
      "[notice] To update, run: python.exe -m pip install --upgrade pip\n"
     ]
    },
    {
     "name": "stdout",
     "output_type": "stream",
     "text": [
      "Requirement already satisfied: snowflake-sqlalchemy in c:\\users\\ferronat\\appdata\\local\\programs\\python\\python311\\lib\\site-packages (1.7.3)\n",
      "Requirement already satisfied: snowflake-connector-python<4.0.0 in c:\\users\\ferronat\\appdata\\local\\programs\\python\\python311\\lib\\site-packages (from snowflake-sqlalchemy) (3.14.0)\n",
      "Requirement already satisfied: sqlalchemy>=1.4.19 in c:\\users\\ferronat\\appdata\\local\\programs\\python\\python311\\lib\\site-packages (from snowflake-sqlalchemy) (2.0.40)\n",
      "Requirement already satisfied: asn1crypto<2.0.0,>0.24.0 in c:\\users\\ferronat\\appdata\\local\\programs\\python\\python311\\lib\\site-packages (from snowflake-connector-python<4.0.0->snowflake-sqlalchemy) (1.5.1)\n",
      "Requirement already satisfied: cffi<2.0.0,>=1.9 in c:\\users\\ferronat\\appdata\\local\\programs\\python\\python311\\lib\\site-packages (from snowflake-connector-python<4.0.0->snowflake-sqlalchemy) (1.17.1)\n",
      "Requirement already satisfied: cryptography>=3.1.0 in c:\\users\\ferronat\\appdata\\local\\programs\\python\\python311\\lib\\site-packages (from snowflake-connector-python<4.0.0->snowflake-sqlalchemy) (44.0.2)\n",
      "Requirement already satisfied: pyOpenSSL<26.0.0,>=22.0.0 in c:\\users\\ferronat\\appdata\\local\\programs\\python\\python311\\lib\\site-packages (from snowflake-connector-python<4.0.0->snowflake-sqlalchemy) (25.0.0)\n",
      "Requirement already satisfied: pyjwt<3.0.0 in c:\\users\\ferronat\\appdata\\local\\programs\\python\\python311\\lib\\site-packages (from snowflake-connector-python<4.0.0->snowflake-sqlalchemy) (2.10.1)\n",
      "Requirement already satisfied: pytz in c:\\users\\ferronat\\appdata\\local\\programs\\python\\python311\\lib\\site-packages (from snowflake-connector-python<4.0.0->snowflake-sqlalchemy) (2025.2)\n",
      "Requirement already satisfied: requests<3.0.0 in c:\\users\\ferronat\\appdata\\local\\programs\\python\\python311\\lib\\site-packages (from snowflake-connector-python<4.0.0->snowflake-sqlalchemy) (2.32.3)\n",
      "Requirement already satisfied: packaging in c:\\users\\ferronat\\appdata\\roaming\\python\\python311\\site-packages (from snowflake-connector-python<4.0.0->snowflake-sqlalchemy) (24.2)\n",
      "Requirement already satisfied: charset_normalizer<4,>=2 in c:\\users\\ferronat\\appdata\\local\\programs\\python\\python311\\lib\\site-packages (from snowflake-connector-python<4.0.0->snowflake-sqlalchemy) (3.4.1)\n",
      "Requirement already satisfied: idna<4,>=2.5 in c:\\users\\ferronat\\appdata\\local\\programs\\python\\python311\\lib\\site-packages (from snowflake-connector-python<4.0.0->snowflake-sqlalchemy) (3.10)\n",
      "Requirement already satisfied: certifi>=2017.4.17 in c:\\users\\ferronat\\appdata\\local\\programs\\python\\python311\\lib\\site-packages (from snowflake-connector-python<4.0.0->snowflake-sqlalchemy) (2025.1.31)\n",
      "Requirement already satisfied: typing_extensions<5,>=4.3 in c:\\users\\ferronat\\appdata\\roaming\\python\\python311\\site-packages (from snowflake-connector-python<4.0.0->snowflake-sqlalchemy) (4.13.0)\n",
      "Requirement already satisfied: filelock<4,>=3.5 in c:\\users\\ferronat\\appdata\\local\\programs\\python\\python311\\lib\\site-packages (from snowflake-connector-python<4.0.0->snowflake-sqlalchemy) (3.18.0)\n",
      "Requirement already satisfied: sortedcontainers>=2.4.0 in c:\\users\\ferronat\\appdata\\local\\programs\\python\\python311\\lib\\site-packages (from snowflake-connector-python<4.0.0->snowflake-sqlalchemy) (2.4.0)\n",
      "Requirement already satisfied: platformdirs<5.0.0,>=2.6.0 in c:\\users\\ferronat\\appdata\\roaming\\python\\python311\\site-packages (from snowflake-connector-python<4.0.0->snowflake-sqlalchemy) (4.3.7)\n",
      "Requirement already satisfied: tomlkit in c:\\users\\ferronat\\appdata\\local\\programs\\python\\python311\\lib\\site-packages (from snowflake-connector-python<4.0.0->snowflake-sqlalchemy) (0.13.2)\n",
      "Requirement already satisfied: greenlet>=1 in c:\\users\\ferronat\\appdata\\local\\programs\\python\\python311\\lib\\site-packages (from sqlalchemy>=1.4.19->snowflake-sqlalchemy) (3.1.1)\n",
      "Requirement already satisfied: pycparser in c:\\users\\ferronat\\appdata\\local\\programs\\python\\python311\\lib\\site-packages (from cffi<2.0.0,>=1.9->snowflake-connector-python<4.0.0->snowflake-sqlalchemy) (2.22)\n",
      "Requirement already satisfied: urllib3<3,>=1.21.1 in c:\\users\\ferronat\\appdata\\local\\programs\\python\\python311\\lib\\site-packages (from requests<3.0.0->snowflake-connector-python<4.0.0->snowflake-sqlalchemy) (2.3.0)\n"
     ]
    },
    {
     "name": "stderr",
     "output_type": "stream",
     "text": [
      "\n",
      "[notice] A new release of pip available: 22.3 -> 25.0.1\n",
      "[notice] To update, run: python.exe -m pip install --upgrade pip\n"
     ]
    },
    {
     "name": "stdout",
     "output_type": "stream",
     "text": [
      "Requirement already satisfied: sqlalchemy-utils in c:\\users\\ferronat\\appdata\\local\\programs\\python\\python311\\lib\\site-packages (0.41.2)\n",
      "Requirement already satisfied: pandas in c:\\users\\ferronat\\appdata\\local\\programs\\python\\python311\\lib\\site-packages (2.2.3)\n",
      "Requirement already satisfied: SQLAlchemy>=1.3 in c:\\users\\ferronat\\appdata\\local\\programs\\python\\python311\\lib\\site-packages (from sqlalchemy-utils) (2.0.40)\n",
      "Requirement already satisfied: numpy>=1.23.2 in c:\\users\\ferronat\\appdata\\local\\programs\\python\\python311\\lib\\site-packages (from pandas) (2.2.4)\n",
      "Requirement already satisfied: python-dateutil>=2.8.2 in c:\\users\\ferronat\\appdata\\roaming\\python\\python311\\site-packages (from pandas) (2.9.0.post0)\n",
      "Requirement already satisfied: pytz>=2020.1 in c:\\users\\ferronat\\appdata\\local\\programs\\python\\python311\\lib\\site-packages (from pandas) (2025.2)\n",
      "Requirement already satisfied: tzdata>=2022.7 in c:\\users\\ferronat\\appdata\\local\\programs\\python\\python311\\lib\\site-packages (from pandas) (2025.2)\n",
      "Requirement already satisfied: six>=1.5 in c:\\users\\ferronat\\appdata\\roaming\\python\\python311\\site-packages (from python-dateutil>=2.8.2->pandas) (1.17.0)\n",
      "Requirement already satisfied: greenlet>=1 in c:\\users\\ferronat\\appdata\\local\\programs\\python\\python311\\lib\\site-packages (from SQLAlchemy>=1.3->sqlalchemy-utils) (3.1.1)\n",
      "Requirement already satisfied: typing-extensions>=4.6.0 in c:\\users\\ferronat\\appdata\\roaming\\python\\python311\\site-packages (from SQLAlchemy>=1.3->sqlalchemy-utils) (4.13.0)\n"
     ]
    },
    {
     "name": "stderr",
     "output_type": "stream",
     "text": [
      "\n",
      "[notice] A new release of pip available: 22.3 -> 25.0.1\n",
      "[notice] To update, run: python.exe -m pip install --upgrade pip\n"
     ]
    }
   ],
   "source": [
    "!pip install snowflake-connector-python\n",
    "!pip install snowflake-sqlalchemy\n",
    "!pip install sqlalchemy-utils pandas"
   ]
  },
  {
   "cell_type": "code",
   "execution_count": 6,
   "metadata": {},
   "outputs": [
    {
     "name": "stderr",
     "output_type": "stream",
     "text": [
      "C:\\Users\\ferronat\\AppData\\Local\\Temp\\ipykernel_40512\\3922377185.py:21: MovedIn20Warning: The ``declarative_base()`` function is now available as sqlalchemy.orm.declarative_base(). (deprecated since: 2.0) (Background on SQLAlchemy 2.0 at: https://sqlalche.me/e/b8d9)\n",
      "  Base = declarative_base()\n"
     ]
    }
   ],
   "source": [
    "\n",
    "from sqlalchemy import create_engine, Column, Integer, String, Float, ForeignKey\n",
    "from sqlalchemy.ext.declarative import declarative_base\n",
    "from sqlalchemy.orm import sessionmaker, Session\n",
    "import pandas as pd\n",
    "import datetime\n",
    "\n",
    "\n",
    "USER = \"JFERRONATO\"\n",
    "PASSWORD = \"Chansnowflake3\"\n",
    "ACCOUNT = \"SVOHEKP-HL94300\"\n",
    "DATABASE = \"STOCKIFY\"\n",
    "SCHEMA = \"PUBLIC\"\n",
    "WAREHOUSE = \"COMPUTE_WH\"\n",
    "\n",
    "\n",
    "engine = create_engine(\n",
    "    f\"snowflake://{USER}:{PASSWORD}@{ACCOUNT}/{DATABASE}/{SCHEMA}?warehouse={WAREHOUSE}\"\n",
    ")\n",
    "\n",
    "\n",
    "Base = declarative_base()\n",
    "\n",
    "\n",
    "class Band(Base):\n",
    "    __tablename__ = 'bands'\n",
    "\n",
    "    band_id = Column(Integer, primary_key=True, autoincrement=True)\n",
    "    name = Column(String)\n",
    "    genre = Column(String)\n",
    "    foundation_year = Column(Integer)\n",
    "\n",
    "class Album(Base):\n",
    "    __tablename__ = 'albums'\n",
    "\n",
    "    album_id = Column(Integer, primary_key=True, autoincrement=True)\n",
    "    band_id = Column(Integer, ForeignKey('bands.band_id'))\n",
    "    title = Column(String)\n",
    "    release_year = Column(Integer)\n",
    "    duration = Column(Float)\n",
    "\n",
    "class Member(Base):\n",
    "    __tablename__ = 'members'\n",
    "\n",
    "    member_id = Column(Integer, primary_key=True, autoincrement=True)\n",
    "    band_id = Column(Integer, ForeignKey('bands.band_id'))\n",
    "    name = Column(String)\n",
    "    join_year = Column(Integer)\n",
    "    leave_year = Column(Integer)\n",
    "\n",
    "class Sale(Base):\n",
    "    __tablename__ = 'sales'\n",
    "\n",
    "    sale_id = Column(Integer, primary_key=True, autoincrement=True)\n",
    "    album_id = Column(Integer, ForeignKey('albums.album_id'))\n",
    "    copies_sold = Column(Integer)\n",
    "\n",
    "\n",
    "Base.metadata.create_all(engine)\n",
    "\n",
    "\n",
    "SessionLocal = sessionmaker(bind=engine)\n",
    "session = SessionLocal()"
   ]
  },
  {
   "cell_type": "code",
   "execution_count": 7,
   "metadata": {},
   "outputs": [
    {
     "name": "stderr",
     "output_type": "stream",
     "text": [
      "C:\\Users\\ferronat\\AppData\\Local\\Temp\\ipykernel_40512\\1048546044.py:17: MovedIn20Warning: The ``declarative_base()`` function is now available as sqlalchemy.orm.declarative_base(). (deprecated since: 2.0) (Background on SQLAlchemy 2.0 at: https://sqlalche.me/e/b8d9)\n",
      "  Base = declarative_base()\n"
     ]
    }
   ],
   "source": [
    "from sqlalchemy import create_engine, Column, Integer, String, Float, ForeignKey\n",
    "from sqlalchemy.ext.declarative import declarative_base\n",
    "from sqlalchemy.orm import sessionmaker\n",
    "import pandas as pd\n",
    "\n",
    "USER = \"JFERRONATO\"\n",
    "PASSWORD = \"Chansnowflake3\"\n",
    "ACCOUNT = \"SVOHEKP-HL94300\"\n",
    "DATABASE = \"STOCKIFY\"\n",
    "SCHEMA = \"PUBLIC\"\n",
    "WAREHOUSE = \"COMPUTE_WH\"\n",
    "\n",
    "engine = create_engine(\n",
    "    f\"snowflake://{USER}:{PASSWORD}@{ACCOUNT}/{DATABASE}/{SCHEMA}?warehouse={WAREHOUSE}\"\n",
    ")\n",
    "\n",
    "Base = declarative_base()\n",
    "\n",
    "class Band(Base):\n",
    "    __tablename__ = 'bands'\n",
    "    band_id = Column(Integer, primary_key=True, autoincrement=True)\n",
    "    name = Column(String)\n",
    "    genre = Column(String)\n",
    "    foundation_year = Column(Integer)\n",
    "\n",
    "Base.metadata.create_all(engine)\n",
    "\n",
    "SessionLocal = sessionmaker(bind=engine)\n",
    "session = SessionLocal()\n"
   ]
  },
  {
   "cell_type": "code",
   "execution_count": 8,
   "metadata": {},
   "outputs": [
    {
     "name": "stderr",
     "output_type": "stream",
     "text": [
      "C:\\Users\\ferronat\\AppData\\Local\\Temp\\ipykernel_40512\\118916339.py:16: MovedIn20Warning: The ``declarative_base()`` function is now available as sqlalchemy.orm.declarative_base(). (deprecated since: 2.0) (Background on SQLAlchemy 2.0 at: https://sqlalche.me/e/b8d9)\n",
      "  Base = declarative_base()\n"
     ]
    }
   ],
   "source": [
    "from sqlalchemy import create_engine, Column, Integer, String, Float, ForeignKey, Date\n",
    "from sqlalchemy.ext.declarative import declarative_base\n",
    "from sqlalchemy.orm import sessionmaker\n",
    "\n",
    "USER = \"JFERRONATO\"\n",
    "PASSWORD = \"Chansnowflake3\"\n",
    "ACCOUNT = \"SVOHEKP-HL94300\"\n",
    "DATABASE = \"STOCKIFY\"\n",
    "SCHEMA = \"PUBLIC\"\n",
    "WAREHOUSE = \"COMPUTE_WH\"\n",
    "\n",
    "engine = create_engine(\n",
    "    f\"snowflake://{USER}:{PASSWORD}@{ACCOUNT}/{DATABASE}/{SCHEMA}?warehouse={WAREHOUSE}\"\n",
    ")\n",
    "\n",
    "Base = declarative_base()\n",
    "\n",
    "class Band(Base):\n",
    "    __tablename__ = 'Band'\n",
    "    band_id = Column(Integer, primary_key=True)\n",
    "    band_url = Column(String(120))\n",
    "    band_name = Column(String(120))\n",
    "\n",
    "class Album(Base):\n",
    "    __tablename__ = 'Album'\n",
    "    album_id = Column(Integer, primary_key=True)\n",
    "    band_id = Column(Integer, ForeignKey(\"Band.band_id\"))\n",
    "    album_name = Column(String(120))\n",
    "    release_date = Column(Date)  \n",
    "    abstract = Column(String(10000))  \n",
    "    run_time = Column(Float)\n",
    "    sales_amount = Column(Integer)\n",
    "\n",
    "\n",
    "class Band_genre(Base):\n",
    "    __tablename__ = 'Band_genre'\n",
    "    band_id = Column(Integer, ForeignKey(\"Band.band_id\"), primary_key=True)\n",
    "    genre_name = Column(String(120), primary_key=True)\n",
    "\n",
    "\n",
    "class Musician(Base):\n",
    "    __tablename__ = 'Musician'\n",
    "    musician_id = Column(Integer, primary_key=True)\n",
    "    musician_url = Column(String(120))\n",
    "\n",
    "\n",
    "class Band_musician(Base):\n",
    "    __tablename__ = 'Band_musician'\n",
    "    band_id = Column(Integer, ForeignKey(\"Band.band_id\"), primary_key=True)\n",
    "    musician_id = Column(Integer, ForeignKey(\"Musician.musician_id\"), primary_key=True)\n",
    "    musician_status = Column(String(120))\n",
    "\n",
    "\n",
    "class Musician_name(Base):\n",
    "    __tablename__ = 'Musician_name'\n",
    "    musician_id = Column(Integer, ForeignKey(\"Musician.musician_id\"), primary_key=True)\n",
    "    musician_name = Column(String(120), primary_key=True)\n",
    "\n",
    "\n",
    "Base.metadata.create_all(engine)\n",
    "\n",
    "\n",
    "SessionLocal = sessionmaker(bind=engine)\n",
    "session = SessionLocal()\n"
   ]
  },
  {
   "cell_type": "code",
   "execution_count": 9,
   "metadata": {},
   "outputs": [
    {
     "name": "stdout",
     "output_type": "stream",
     "text": [
      "(datetime.datetime(2025, 4, 9, 10, 21, 25, 356000, tzinfo=<DstTzInfo 'America/Los_Angeles' PDT-1 day, 17:00:00 DST>), 'ALBUMS', 'STOCKIFY', 'PUBLIC', 'TABLE', '', '', 0, 0, 'ACCOUNTADMIN', '1', 'OFF', 'OFF', 'N', 'N', 'ROLE', 'N', None, 'N', 'N', 'N', 'N')\n",
      "(datetime.datetime(2025, 4, 8, 13, 25, 40, 478000, tzinfo=<DstTzInfo 'America/Los_Angeles' PDT-1 day, 17:00:00 DST>), 'APPUSER', 'STOCKIFY', 'PUBLIC', 'TABLE', '', '', 0, 0, 'ACCOUNTADMIN', '1', 'OFF', 'OFF', 'N', 'N', 'ROLE', 'N', None, 'N', 'N', 'N', 'N')\n",
      "(datetime.datetime(2025, 4, 9, 10, 29, 11, 578000, tzinfo=<DstTzInfo 'America/Los_Angeles' PDT-1 day, 17:00:00 DST>), 'Album', 'STOCKIFY', 'PUBLIC', 'TABLE', '', '', 0, 0, 'ACCOUNTADMIN', '1', 'OFF', 'OFF', 'N', 'N', 'ROLE', 'N', None, 'N', 'N', 'N', 'N')\n",
      "(datetime.datetime(2025, 4, 9, 10, 21, 24, 890000, tzinfo=<DstTzInfo 'America/Los_Angeles' PDT-1 day, 17:00:00 DST>), 'BANDS', 'STOCKIFY', 'PUBLIC', 'TABLE', '', '', 0, 0, 'ACCOUNTADMIN', '1', 'OFF', 'OFF', 'N', 'N', 'ROLE', 'N', None, 'N', 'N', 'N', 'N')\n",
      "(datetime.datetime(2025, 4, 9, 10, 29, 10, 985000, tzinfo=<DstTzInfo 'America/Los_Angeles' PDT-1 day, 17:00:00 DST>), 'Band', 'STOCKIFY', 'PUBLIC', 'TABLE', '', '', 0, 0, 'ACCOUNTADMIN', '1', 'OFF', 'OFF', 'N', 'N', 'ROLE', 'N', None, 'N', 'N', 'N', 'N')\n",
      "(datetime.datetime(2025, 4, 9, 10, 29, 11, 916000, tzinfo=<DstTzInfo 'America/Los_Angeles' PDT-1 day, 17:00:00 DST>), 'Band_genre', 'STOCKIFY', 'PUBLIC', 'TABLE', '', '', 0, 0, 'ACCOUNTADMIN', '1', 'OFF', 'OFF', 'N', 'N', 'ROLE', 'N', None, 'N', 'N', 'N', 'N')\n",
      "(datetime.datetime(2025, 4, 9, 10, 29, 12, 281000, tzinfo=<DstTzInfo 'America/Los_Angeles' PDT-1 day, 17:00:00 DST>), 'Band_musician', 'STOCKIFY', 'PUBLIC', 'TABLE', '', '', 0, 0, 'ACCOUNTADMIN', '1', 'OFF', 'OFF', 'N', 'N', 'ROLE', 'N', None, 'N', 'N', 'N', 'N')\n",
      "(datetime.datetime(2025, 4, 8, 13, 25, 39, 737000, tzinfo=<DstTzInfo 'America/Los_Angeles' PDT-1 day, 17:00:00 DST>), 'COMPANY', 'STOCKIFY', 'PUBLIC', 'TABLE', '', '', 0, 0, 'ACCOUNTADMIN', '1', 'OFF', 'OFF', 'N', 'N', 'ROLE', 'N', None, 'N', 'N', 'N', 'N')\n",
      "(datetime.datetime(2025, 4, 9, 10, 21, 25, 743000, tzinfo=<DstTzInfo 'America/Los_Angeles' PDT-1 day, 17:00:00 DST>), 'MEMBERS', 'STOCKIFY', 'PUBLIC', 'TABLE', '', '', 0, 0, 'ACCOUNTADMIN', '1', 'OFF', 'OFF', 'N', 'N', 'ROLE', 'N', None, 'N', 'N', 'N', 'N')\n",
      "(datetime.datetime(2025, 4, 9, 10, 29, 11, 250000, tzinfo=<DstTzInfo 'America/Los_Angeles' PDT-1 day, 17:00:00 DST>), 'Musician', 'STOCKIFY', 'PUBLIC', 'TABLE', '', '', 0, 0, 'ACCOUNTADMIN', '1', 'OFF', 'OFF', 'N', 'N', 'ROLE', 'N', None, 'N', 'N', 'N', 'N')\n",
      "(datetime.datetime(2025, 4, 9, 10, 29, 12, 575000, tzinfo=<DstTzInfo 'America/Los_Angeles' PDT-1 day, 17:00:00 DST>), 'Musician_name', 'STOCKIFY', 'PUBLIC', 'TABLE', '', '', 0, 0, 'ACCOUNTADMIN', '1', 'OFF', 'OFF', 'N', 'N', 'ROLE', 'N', None, 'N', 'N', 'N', 'N')\n",
      "(datetime.datetime(2025, 4, 9, 10, 21, 26, 195000, tzinfo=<DstTzInfo 'America/Los_Angeles' PDT-1 day, 17:00:00 DST>), 'SALES', 'STOCKIFY', 'PUBLIC', 'TABLE', '', '', 0, 0, 'ACCOUNTADMIN', '1', 'OFF', 'OFF', 'N', 'N', 'ROLE', 'N', None, 'N', 'N', 'N', 'N')\n",
      "(datetime.datetime(2025, 4, 8, 13, 25, 40, 56000, tzinfo=<DstTzInfo 'America/Los_Angeles' PDT-1 day, 17:00:00 DST>), 'STOCKS', 'STOCKIFY', 'PUBLIC', 'TABLE', '', '', 0, 0, 'ACCOUNTADMIN', '1', 'OFF', 'OFF', 'N', 'N', 'ROLE', 'N', None, 'N', 'N', 'N', 'N')\n",
      "(datetime.datetime(2025, 4, 8, 13, 25, 40, 682000, tzinfo=<DstTzInfo 'America/Los_Angeles' PDT-1 day, 17:00:00 DST>), 'TRANSACTIONS', 'STOCKIFY', 'PUBLIC', 'TABLE', '', '', 0, 0, 'ACCOUNTADMIN', '1', 'OFF', 'OFF', 'N', 'N', 'ROLE', 'N', None, 'N', 'N', 'N', 'N')\n"
     ]
    }
   ],
   "source": [
    "from sqlalchemy import text\n",
    "\n",
    "with engine.connect() as conn:\n",
    "    result = conn.execute(text(\"SHOW TABLES\"))\n",
    "    for row in result:\n",
    "        print(row)\n"
   ]
  },
  {
   "cell_type": "code",
   "execution_count": 10,
   "metadata": {},
   "outputs": [],
   "source": [
    "Session = sessionmaker(bind=engine)\n",
    "session = Session()"
   ]
  },
  {
   "cell_type": "code",
   "execution_count": null,
   "metadata": {},
   "outputs": [],
   "source": []
  },
  {
   "cell_type": "code",
   "execution_count": 11,
   "metadata": {},
   "outputs": [],
   "source": [
    "def populate_table(csv_file,table):\n",
    "    df = pd.read_csv(csv_file, sep = ';')\n",
    "    df = df.dropna()\n",
    "    \n",
    "    try:\n",
    "        df['release_date'] = pd.to_datetime(df['release_date'], infer_datetime_format = True)\n",
    "    except:\n",
    "        pass\n",
    "    \n",
    "    for i, val in enumerate(df.values):\n",
    "        \n",
    "        if table == 'Band':\n",
    "            rec = Band (\n",
    "                band_id = val[0],\n",
    "                band_url = val[1],\n",
    "                band_name = val[2]\n",
    "            )\n",
    "        elif table == 'Album':\n",
    "            rec = Album (\n",
    "                album_id = val[0],\n",
    "                band_id = val[1],\n",
    "                album_name = val[2],\n",
    "                release_date = val[3],\n",
    "                abstract = val[4],\n",
    "                run_time = val[5],\n",
    "                sales_amount = val[6]\n",
    "            )\n",
    "        elif table == 'Band_genre':\n",
    "            rec = Band_genre (\n",
    "                band_id = val[0],\n",
    "                genre_name = val[1]\n",
    "            )\n",
    "        elif table == 'Musician':\n",
    "            rec = Musician (\n",
    "                musician_id = val[0],\n",
    "                musician_url = val[1]\n",
    "            )\n",
    "        elif table == 'Band_musician':\n",
    "            rec = Band_musician (\n",
    "                band_id = val[0],\n",
    "                musician_id = val[1],\n",
    "                musician_status = val[2]\n",
    "            )\n",
    "        else: # musician_name\n",
    "            rec = Musician_name (\n",
    "                musician_id = val[0],\n",
    "                musician_name = val[1]\n",
    "            )\n",
    "        \n",
    "        session.add(rec)\n",
    "    session.commit()"
   ]
  },
  {
   "cell_type": "code",
   "execution_count": null,
   "metadata": {},
   "outputs": [
    {
     "name": "stdout",
     "output_type": "stream",
     "text": [
      "Error: [Errno 2] No such file or directory: './../../Data/BBDD/bands/table_band.csv'\n"
     ]
    }
   ],
   "source": [
    "try:\n",
    "    populate_table('./../../Data/BBDD/bands/table_band.csv','Band')\n",
    "except Exception as e:\n",
    "    print(f\"Error: {e}\")\n",
    "    session.rollback()  \n",
    "finally:\n",
    "    session.close()"
   ]
  },
  {
   "cell_type": "code",
   "execution_count": null,
   "metadata": {},
   "outputs": [
    {
     "name": "stdout",
     "output_type": "stream",
     "text": [
      "Error: [Errno 2] No such file or directory: './../../Data/BBDD/bands/table_album.csv'\n"
     ]
    }
   ],
   "source": [
    "try:\n",
    "    populate_table('./../../Data/BBDD/bands/table_album.csv','Album')\n",
    "except Exception as e:\n",
    "    print(f\"Error: {e}\")\n",
    "    session.rollback() \n",
    "finally:\n",
    "    session.close()"
   ]
  },
  {
   "cell_type": "code",
   "execution_count": 14,
   "metadata": {},
   "outputs": [
    {
     "name": "stdout",
     "output_type": "stream",
     "text": [
      "Error: [Errno 2] No such file or directory: './../../Data/BBDD/bands/table_band_genre.csv'\n"
     ]
    }
   ],
   "source": [
    "try:\n",
    "    populate_table('./../../Data/BBDD/bands/table_band_genre.csv','Band_genre')\n",
    "except Exception as e:\n",
    "    print(f\"Error: {e}\")\n",
    "    session.rollback()  # rollback revierte la acción que se quedó a medias\n",
    "finally:\n",
    "    session.close()"
   ]
  },
  {
   "cell_type": "code",
   "execution_count": 15,
   "metadata": {},
   "outputs": [
    {
     "name": "stdout",
     "output_type": "stream",
     "text": [
      "Error: [Errno 2] No such file or directory: './../../Data/BBDD/bands/table_musician.csv'\n"
     ]
    }
   ],
   "source": [
    "try:\n",
    "    populate_table('./../../Data/BBDD/bands/table_musician.csv','Musician')\n",
    "except Exception as e:\n",
    "    print(f\"Error: {e}\")\n",
    "    session.rollback()  # rollback revierte la acción que se quedó a medias\n",
    "finally:\n",
    "    session.close()"
   ]
  },
  {
   "cell_type": "code",
   "execution_count": 16,
   "metadata": {},
   "outputs": [
    {
     "name": "stdout",
     "output_type": "stream",
     "text": [
      "Error: [Errno 2] No such file or directory: './../../Data/BBDD/bands/table_band_musician.csv'\n"
     ]
    }
   ],
   "source": [
    "try:\n",
    "    populate_table('./../../Data/BBDD/bands/table_band_musician.csv','Band_musician')\n",
    "except Exception as e:\n",
    "    print(f\"Error: {e}\")\n",
    "    session.rollback()  # rollback revierte la acción que se quedó a medias\n",
    "finally:\n",
    "    session.close()"
   ]
  },
  {
   "cell_type": "code",
   "execution_count": 17,
   "metadata": {},
   "outputs": [
    {
     "name": "stdout",
     "output_type": "stream",
     "text": [
      "Error: [Errno 2] No such file or directory: './../../Data/BBDD/bands/table_musician_name.csv'\n"
     ]
    }
   ],
   "source": [
    "try:\n",
    "    populate_table('./../../Data/BBDD/bands/table_musician_name.csv','Musician_name')\n",
    "except Exception as e:\n",
    "    print(f\"Error: {e}\")\n",
    "    session.rollback()  # rollback revierte la acción que se quedó a medias\n",
    "finally:\n",
    "    session.close()"
   ]
  }
 ],
 "metadata": {
  "kernelspec": {
   "display_name": "Python 3",
   "language": "python",
   "name": "python3"
  },
  "language_info": {
   "codemirror_mode": {
    "name": "ipython",
    "version": 3
   },
   "file_extension": ".py",
   "mimetype": "text/x-python",
   "name": "python",
   "nbconvert_exporter": "python",
   "pygments_lexer": "ipython3",
   "version": "3.11.0"
  }
 },
 "nbformat": 4,
 "nbformat_minor": 2
}
